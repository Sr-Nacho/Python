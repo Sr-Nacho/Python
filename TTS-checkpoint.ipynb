{
 "cells": [
  {
   "cell_type": "code",
   "execution_count": 6,
   "id": "3d403769",
   "metadata": {},
   "outputs": [
    {
     "name": "stdout",
     "output_type": "stream",
     "text": [
      "voices[1].id is a female\n",
      "voices[0].id is a man\n",
      "Now pick a voice: voices[1].id\n",
      "what should I say? Words are cool. I speak words\n"
     ]
    }
   ],
   "source": [
    "#Set up the library\n",
    "import pyttsx3\n",
    "engine = pyttsx3.init()\n",
    "\n",
    "#Choose the voice\n",
    "print(\"voices[1].id is a female\")\n",
    "print(\"voices[0].id is a man\")\n",
    "gender = input(\"Now pick a voice: \")\n",
    "\n",
    "#Change the voice\n",
    "voices = engine.getProperty('voices')\n",
    "engine.setProperty('voice', gender)\n",
    "\n",
    "words = input(\"what should I say? \")\n",
    "\n",
    "#Say the words\n",
    "engine.say(words)\n",
    "engine.runAndWait()"
   ]
  },
  {
   "cell_type": "code",
   "execution_count": 8,
   "id": "1122e9b4",
   "metadata": {},
   "outputs": [
    {
     "name": "stdout",
     "output_type": "stream",
     "text": [
      "Enter 'male' or 'female' to pick a voice: female\n",
      "What should I say? Hi, I am Friday\n"
     ]
    }
   ],
   "source": [
    "\"\"\"\n",
    "By Miles Elkins\n",
    "With help from ChatGPT to do the if/elif/else statements\n",
    "This made it so that inputs were male/female rather than voices[0].id/voices[1].id\n",
    "ChatGPT did not contribute any important parts of the code, it simply increased user friendliness\n",
    "\"\"\"\n",
    "\n",
    "# Set up the library\n",
    "import pyttsx3\n",
    "engine = pyttsx3.init()\n",
    "\n",
    "# Choose the voice based on user input\n",
    "gender_input = input(\"Enter 'male' or 'female' to pick a voice: \")\n",
    "\n",
    "if gender_input == 'male':\n",
    "    engine.setProperty('voice', voices[0].id)\n",
    "elif gender_input == 'female':\n",
    "    engine.setProperty('voice', voices[1].id)\n",
    "else:\n",
    "    print(\"Voice not found for the specified gender.\")\n",
    "\n",
    "# Say the words\n",
    "words = input(\"What should I say? \")\n",
    "\n",
    "engine.say(words)\n",
    "engine.runAndWait()\n"
   ]
  },
  {
   "cell_type": "code",
   "execution_count": null,
   "id": "87718e00",
   "metadata": {},
   "outputs": [],
   "source": []
  }
 ],
 "metadata": {
  "kernelspec": {
   "display_name": "Python 3 (ipykernel)",
   "language": "python",
   "name": "python3"
  },
  "language_info": {
   "codemirror_mode": {
    "name": "ipython",
    "version": 3
   },
   "file_extension": ".py",
   "mimetype": "text/x-python",
   "name": "python",
   "nbconvert_exporter": "python",
   "pygments_lexer": "ipython3",
   "version": "3.11.4"
  }
 },
 "nbformat": 4,
 "nbformat_minor": 5
}
